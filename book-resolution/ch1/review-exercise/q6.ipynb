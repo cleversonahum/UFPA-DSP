{
 "nbformat": 4,
 "nbformat_minor": 2,
 "metadata": {
  "language_info": {
   "name": "python",
   "codemirror_mode": {
    "name": "ipython",
    "version": 3
   },
   "version": "3.8.1-final"
  },
  "orig_nbformat": 2,
  "file_extension": ".py",
  "mimetype": "text/x-python",
  "name": "python",
  "npconvert_exporter": "python",
  "pygments_lexer": "ipython3",
  "version": 3,
  "kernelspec": {
   "name": "python38164bitufpadsppipenv5d3092d348794085b87b29ca804e6f99",
   "display_name": "Python 3.8.1 64-bit ('UFPA-DSP': pipenv)"
  }
 },
 "cells": [
  {
   "cell_type": "code",
   "execution_count": 1,
   "metadata": {},
   "outputs": [],
   "source": [
    "import scipy.io.wavfile as iowav\n",
    "import numpy as np\n",
    "import matplotlib.pyplot as plt\n",
    "import wave as wv"
   ]
  },
  {
   "cell_type": "code",
   "execution_count": 11,
   "metadata": {},
   "outputs": [
    {
     "name": "stdout",
     "output_type": "stream",
     "text": "_wave_params(nchannels=1, sampwidth=2, framerate=8000, nframes=8602, comptype='NONE', compname='not compressed')\nSampling Frequency 8000 \nNumber of samples:  8602\n\n"
    }
   ],
   "source": [
    "# Reading audio files\n",
    "[h1, audio1] = iowav.read('./tidigits_saa7.wav')\n",
    "audio = wv.open('./tidigits_saa7.wav', 'r') # Using another library to get audio info\n",
    "print(audio.getparams())\n",
    "# [h2, audio2] = iowav.read('./timit_testdr8mpam0sx199.raw') # Error because it does not have wav file headers\n",
    "#[h3, audio3] = iowav.read('./timit_testdr8mpam0sx199.wav') # Error because it is a NIST file\n",
    "print(\"Sampling Frequency\", h1,\"\\nNumber of samples: \", len(audio1))\n",
    "print()"
   ]
  },
  {
   "cell_type": "code",
   "execution_count": null,
   "metadata": {},
   "outputs": [],
   "source": [
    "%matplotlib inline\n",
    "# Wavefile amplitude plot\n",
    "plt.figure()\n",
    "plt.plot(np.arange(len(audio1))*(1/h1), audio1)\n",
    "plt.xlabel(\"Time (s)\")\n",
    "plt.ylabel(\"Amplitude\")\n",
    "plt.show()"
   ]
  },
  {
   "cell_type": "code",
   "execution_count": null,
   "metadata": {},
   "outputs": [],
   "source": [
    "# Histogram\n",
    "plt.figure()\n",
    "plt.hist(audio1)\n",
    "plt.xlabel(\"Values\")\n",
    "plt.ylabel(\"Values frequencies\")\n",
    "plt.show()"
   ]
  },
  {
   "cell_type": "code",
   "execution_count": null,
   "metadata": {},
   "outputs": [],
   "source": [
    "# PSD\n",
    "plt.figure()\n",
    "plt.psd(audio1, h1)\n",
    "plt.xlabel(\"Frequency\")\n",
    "plt.ylabel(\"PSD (dB/Hz)\")\n",
    "plt.show()"
   ]
  }
 ]
}