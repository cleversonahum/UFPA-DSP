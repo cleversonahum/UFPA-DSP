{
 "nbformat": 4,
 "nbformat_minor": 2,
 "metadata": {
  "language_info": {
   "name": "python",
   "codemirror_mode": {
    "name": "ipython",
    "version": 3
   },
   "version": "3.8.1-final"
  },
  "orig_nbformat": 2,
  "file_extension": ".py",
  "mimetype": "text/x-python",
  "name": "python",
  "npconvert_exporter": "python",
  "pygments_lexer": "ipython3",
  "version": 3,
  "kernelspec": {
   "name": "python38164bitcodespipenv679df0c4d2914491b2d09af7b833190b",
   "display_name": "Python 3.8.1 64-bit ('codes': pipenv)"
  }
 },
 "cells": [
  {
   "cell_type": "code",
   "execution_count": 3,
   "metadata": {},
   "outputs": [],
   "source": [
    "import numpy as np\n",
    "from sys import byteorder"
   ]
  },
  {
   "cell_type": "code",
   "execution_count": 6,
   "metadata": {},
   "outputs": [
    {
     "name": "stdout",
     "output_type": "stream",
     "text": "System using: little\n"
    }
   ],
   "source": [
    "print(\"System using:\", byteorder)"
   ]
  },
  {
   "cell_type": "code",
   "execution_count": 18,
   "metadata": {},
   "outputs": [
    {
     "name": "stdout",
     "output_type": "stream",
     "text": "(4 Bytes) Fist value using default system endian:  -8388737 \n(4 Bytes) First value using non-default system endian:  0\n(2 Bytes) Fist value using default system endian:  -32544 \n(2 Bytes) First value using non-default system endian:  0\n"
    }
   ],
   "source": [
    "file4bytes = np.memmap('./timit_testdr8mpam0sx199.raw', dtype='int32') # Reading as default from System\n",
    "file2bytes = np.memmap('./timit_testdr8mpam0sx199.raw', dtype='int16') # Reading as default from System\n",
    "file_4bytes_inverted = file4bytes.byteswap(inplace=True)\n",
    "file_2bytes_inverted = file2bytes.byteswap(inplace=True)\n",
    "print(\"(4 Bytes) Fist value using default system endian: \", file4bytes[4000], \"\\n(4 Bytes) First value using non-default system endian: \", file_4bytes_inverted[1])\n",
    "print(\"(2 Bytes) Fist value using default system endian: \", file2bytes[4000], \"\\n(2 Bytes) First value using non-default system endian: \", file_2bytes_inverted[1])"
   ]
  }
 ]
}