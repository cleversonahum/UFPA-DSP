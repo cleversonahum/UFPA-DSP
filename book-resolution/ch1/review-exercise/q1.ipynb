{
 "nbformat": 4,
 "nbformat_minor": 2,
 "metadata": {
  "language_info": {
   "name": "python",
   "codemirror_mode": {
    "name": "ipython",
    "version": 3
   },
   "version": "3.8.1-final"
  },
  "orig_nbformat": 2,
  "file_extension": ".py",
  "mimetype": "text/x-python",
  "name": "python",
  "npconvert_exporter": "python",
  "pygments_lexer": "ipython3",
  "version": 3,
  "kernelspec": {
   "name": "python38164bitcodespipenv679df0c4d2914491b2d09af7b833190b",
   "display_name": "Python 3.8.1 64-bit ('codes': pipenv)"
  }
 },
 "cells": [
  {
   "cell_type": "code",
   "execution_count": 16,
   "metadata": {},
   "outputs": [],
   "source": [
    "import numpy as np"
   ]
  },
  {
   "cell_type": "code",
   "execution_count": 17,
   "metadata": {},
   "outputs": [],
   "source": [
    "# Considering that the power of a random variable can be defined as P = E|X^2| = variance + mean², and we want a Power equals to 0.05 Watts as calculated, we can define mean as 0 and variance as sqrt(0.05)\n",
    "mean = 0\n",
    "variance = 0.05\n",
    "signal_power = lambda signal: np.mean(np.power(signal,2))"
   ]
  },
  {
   "cell_type": "code",
   "execution_count": 21,
   "metadata": {},
   "outputs": [
    {
     "data": {
      "text/plain": "49.95088422381466"
     },
     "execution_count": 21,
     "metadata": {},
     "output_type": "execute_result"
    }
   ],
   "source": [
    "t = np.arange(1000)\n",
    "sine = 10*np.sin(t)\n",
    "power_sine = signal_power(sine)\n",
    "power_sine"
   ]
  },
  {
   "cell_type": "code",
   "execution_count": 19,
   "metadata": {},
   "outputs": [
    {
     "data": {
      "text/plain": "0.045596398142554166"
     },
     "execution_count": 19,
     "metadata": {},
     "output_type": "execute_result"
    }
   ],
   "source": [
    "noise = np.sqrt(variance) * np.random.randn(t.size) + mean\n",
    "power_noise = signal_power(noise)\n",
    "power_noise"
   ]
  },
  {
   "cell_type": "code",
   "execution_count": 20,
   "metadata": {},
   "outputs": [
    {
     "data": {
      "text/plain": "49.94867491125758"
     },
     "execution_count": 20,
     "metadata": {},
     "output_type": "execute_result"
    }
   ],
   "source": [
    "sine_noise = sine + noise\n",
    "power_sine_noise = signal_power(sine_noise)\n",
    "power_sine_noise"
   ]
  },
  {
   "cell_type": "code",
   "execution_count": 23,
   "metadata": {},
   "outputs": [
    {
     "data": {
      "text/plain": "1095.5006592329175"
     },
     "execution_count": 23,
     "metadata": {},
     "output_type": "execute_result"
    }
   ],
   "source": [
    "snr_linear = power_sine/power_noise\n",
    "snr_linear"
   ]
  },
  {
   "cell_type": "code",
   "execution_count": 26,
   "metadata": {},
   "outputs": [
    {
     "data": {
      "text/plain": "30.39612643239611"
     },
     "execution_count": 26,
     "metadata": {},
     "output_type": "execute_result"
    }
   ],
   "source": [
    "snr_db = 10*np.log10(snr_linear)\n",
    "snr_db"
   ]
  }
 ]
}